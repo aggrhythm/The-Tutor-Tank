{
  "nbformat": 4,
  "nbformat_minor": 0,
  "metadata": {
    "colab": {
      "provenance": []
    },
    "kernelspec": {
      "name": "python3",
      "display_name": "Python 3"
    },
    "language_info": {
      "name": "python"
    }
  },
  "cells": [
    {
      "cell_type": "code",
      "source": [
        "#this dataset can be used in future (it is used as reference in the current model)\n",
        "import tensorflow_datasets as tfds\n",
        "import pandas as pd\n",
        "splits = ['train', 'test']\n",
        "dataset = tfds.load('math_qa', split=splits)"
      ],
      "metadata": {
        "id": "UXOpE8byzilT"
      },
      "execution_count": null,
      "outputs": []
    },
    {
      "cell_type": "code",
      "source": [
        "train_df=pd.DataFrame(dataset[0])\n",
        "test_df=pd.DataFrame(dataset[1])"
      ],
      "metadata": {
        "id": "0zaV50rNgbJm"
      },
      "execution_count": null,
      "outputs": []
    },
    {
      "cell_type": "code",
      "source": [
        "train_df.shape,test_df.shape\n",
        "train_df.head()"
      ],
      "metadata": {
        "colab": {
          "base_uri": "https://localhost:8080/",
          "height": 504
        },
        "id": "QkBvo1HBg29x",
        "outputId": "419e09b8-4d32-46be-c0e8-e7ebeca6a800"
      },
      "execution_count": null,
      "outputs": [
        {
          "output_type": "execute_result",
          "data": {
            "text/plain": [
              "                                             Problem  \\\n",
              "0  tf.Tensor(b'pascal has 96 miles remaining to c...   \n",
              "1  tf.Tensor(b'a library has an average of 510 vi...   \n",
              "2  tf.Tensor(b'what is the volume of an tetrahedr...   \n",
              "3  tf.Tensor(b'a multiple choice test consists of...   \n",
              "4  tf.Tensor(b'in the first 10 overs of a cricket...   \n",
              "\n",
              "                                           Rationale  \\\n",
              "0  tf.Tensor(b'\"let the current speed be x miles ...   \n",
              "1  tf.Tensor(b'\"since the month begins with a sun...   \n",
              "2  tf.Tensor(b'the answer is sqr ( 2 ) / 12 = 0.1...   \n",
              "3  tf.Tensor(b'\"5 choices for each of the 4 quest...   \n",
              "4  tf.Tensor(b'\"required run rate = [ 292 - ( 3.2...   \n",
              "\n",
              "                                   annotated_formula  \\\n",
              "0  tf.Tensor(b'divide(add(divide(96, 16), sqrt(ad...   \n",
              "1  tf.Tensor(b'divide(add(multiply(add(floor(divi...   \n",
              "2  tf.Tensor(b'divide(sqrt(const_2), add(const_10...   \n",
              "3  tf.Tensor(b'power(5, 4)', shape=(), dtype=string)   \n",
              "4  tf.Tensor(b'divide(subtract(292, multiply(10, ...   \n",
              "\n",
              "                                         category  \\\n",
              "0   tf.Tensor(b'physics', shape=(), dtype=string)   \n",
              "1   tf.Tensor(b'general', shape=(), dtype=string)   \n",
              "2  tf.Tensor(b'geometry', shape=(), dtype=string)   \n",
              "3   tf.Tensor(b'general', shape=(), dtype=string)   \n",
              "4      tf.Tensor(b'gain', shape=(), dtype=string)   \n",
              "\n",
              "                                   correct  \\\n",
              "0  tf.Tensor(b'b', shape=(), dtype=string)   \n",
              "1  tf.Tensor(b'a', shape=(), dtype=string)   \n",
              "2  tf.Tensor(b'c', shape=(), dtype=string)   \n",
              "3  tf.Tensor(b'c', shape=(), dtype=string)   \n",
              "4  tf.Tensor(b'a', shape=(), dtype=string)   \n",
              "\n",
              "                                     correct_option  \\\n",
              "0           tf.Tensor(b'8', shape=(), dtype=string)   \n",
              "1         tf.Tensor(b'285', shape=(), dtype=string)   \n",
              "2  tf.Tensor(b'0.11785113', shape=(), dtype=string)   \n",
              "3         tf.Tensor(b'625', shape=(), dtype=string)   \n",
              "4         tf.Tensor(b'6.5', shape=(), dtype=string)   \n",
              "\n",
              "                                      linear_formula  \\\n",
              "0  tf.Tensor(b'divide(n0,n2)|divide(n3,const_100)...   \n",
              "1  tf.Tensor(b'add(const_3,const_4)|divide(n2,#0)...   \n",
              "2  tf.Tensor(b'add(const_10,const_2)|sqrt(const_2...   \n",
              "3  tf.Tensor(b'power(n1,n0)|', shape=(), dtype=st...   \n",
              "4  tf.Tensor(b'multiply(n0,n1)|subtract(n3,#0)|di...   \n",
              "\n",
              "                                             options  \n",
              "0  tf.Tensor(b'a ) 6 , b ) 8 , c ) 10 , d ) 12 , ...  \n",
              "1  tf.Tensor(b'a ) 285 , b ) 227 , c ) 271 , d ) ...  \n",
              "2  tf.Tensor(b\"['a ) 3.11545466', 'b ) 0.76678113...  \n",
              "3  tf.Tensor(b'a ) 24 , b ) 120 , c ) 625 , d ) 7...  \n",
              "4  tf.Tensor(b'a ) 6.5 , b ) 6.22 , c ) 6.29 , d ...  "
            ],
            "text/html": [
              "\n",
              "  <div id=\"df-f80c5ea7-ca85-4028-98e4-ace88badc138\" class=\"colab-df-container\">\n",
              "    <div>\n",
              "<style scoped>\n",
              "    .dataframe tbody tr th:only-of-type {\n",
              "        vertical-align: middle;\n",
              "    }\n",
              "\n",
              "    .dataframe tbody tr th {\n",
              "        vertical-align: top;\n",
              "    }\n",
              "\n",
              "    .dataframe thead th {\n",
              "        text-align: right;\n",
              "    }\n",
              "</style>\n",
              "<table border=\"1\" class=\"dataframe\">\n",
              "  <thead>\n",
              "    <tr style=\"text-align: right;\">\n",
              "      <th></th>\n",
              "      <th>Problem</th>\n",
              "      <th>Rationale</th>\n",
              "      <th>annotated_formula</th>\n",
              "      <th>category</th>\n",
              "      <th>correct</th>\n",
              "      <th>correct_option</th>\n",
              "      <th>linear_formula</th>\n",
              "      <th>options</th>\n",
              "    </tr>\n",
              "  </thead>\n",
              "  <tbody>\n",
              "    <tr>\n",
              "      <th>0</th>\n",
              "      <td>tf.Tensor(b'pascal has 96 miles remaining to c...</td>\n",
              "      <td>tf.Tensor(b'\"let the current speed be x miles ...</td>\n",
              "      <td>tf.Tensor(b'divide(add(divide(96, 16), sqrt(ad...</td>\n",
              "      <td>tf.Tensor(b'physics', shape=(), dtype=string)</td>\n",
              "      <td>tf.Tensor(b'b', shape=(), dtype=string)</td>\n",
              "      <td>tf.Tensor(b'8', shape=(), dtype=string)</td>\n",
              "      <td>tf.Tensor(b'divide(n0,n2)|divide(n3,const_100)...</td>\n",
              "      <td>tf.Tensor(b'a ) 6 , b ) 8 , c ) 10 , d ) 12 , ...</td>\n",
              "    </tr>\n",
              "    <tr>\n",
              "      <th>1</th>\n",
              "      <td>tf.Tensor(b'a library has an average of 510 vi...</td>\n",
              "      <td>tf.Tensor(b'\"since the month begins with a sun...</td>\n",
              "      <td>tf.Tensor(b'divide(add(multiply(add(floor(divi...</td>\n",
              "      <td>tf.Tensor(b'general', shape=(), dtype=string)</td>\n",
              "      <td>tf.Tensor(b'a', shape=(), dtype=string)</td>\n",
              "      <td>tf.Tensor(b'285', shape=(), dtype=string)</td>\n",
              "      <td>tf.Tensor(b'add(const_3,const_4)|divide(n2,#0)...</td>\n",
              "      <td>tf.Tensor(b'a ) 285 , b ) 227 , c ) 271 , d ) ...</td>\n",
              "    </tr>\n",
              "    <tr>\n",
              "      <th>2</th>\n",
              "      <td>tf.Tensor(b'what is the volume of an tetrahedr...</td>\n",
              "      <td>tf.Tensor(b'the answer is sqr ( 2 ) / 12 = 0.1...</td>\n",
              "      <td>tf.Tensor(b'divide(sqrt(const_2), add(const_10...</td>\n",
              "      <td>tf.Tensor(b'geometry', shape=(), dtype=string)</td>\n",
              "      <td>tf.Tensor(b'c', shape=(), dtype=string)</td>\n",
              "      <td>tf.Tensor(b'0.11785113', shape=(), dtype=string)</td>\n",
              "      <td>tf.Tensor(b'add(const_10,const_2)|sqrt(const_2...</td>\n",
              "      <td>tf.Tensor(b\"['a ) 3.11545466', 'b ) 0.76678113...</td>\n",
              "    </tr>\n",
              "    <tr>\n",
              "      <th>3</th>\n",
              "      <td>tf.Tensor(b'a multiple choice test consists of...</td>\n",
              "      <td>tf.Tensor(b'\"5 choices for each of the 4 quest...</td>\n",
              "      <td>tf.Tensor(b'power(5, 4)', shape=(), dtype=string)</td>\n",
              "      <td>tf.Tensor(b'general', shape=(), dtype=string)</td>\n",
              "      <td>tf.Tensor(b'c', shape=(), dtype=string)</td>\n",
              "      <td>tf.Tensor(b'625', shape=(), dtype=string)</td>\n",
              "      <td>tf.Tensor(b'power(n1,n0)|', shape=(), dtype=st...</td>\n",
              "      <td>tf.Tensor(b'a ) 24 , b ) 120 , c ) 625 , d ) 7...</td>\n",
              "    </tr>\n",
              "    <tr>\n",
              "      <th>4</th>\n",
              "      <td>tf.Tensor(b'in the first 10 overs of a cricket...</td>\n",
              "      <td>tf.Tensor(b'\"required run rate = [ 292 - ( 3.2...</td>\n",
              "      <td>tf.Tensor(b'divide(subtract(292, multiply(10, ...</td>\n",
              "      <td>tf.Tensor(b'gain', shape=(), dtype=string)</td>\n",
              "      <td>tf.Tensor(b'a', shape=(), dtype=string)</td>\n",
              "      <td>tf.Tensor(b'6.5', shape=(), dtype=string)</td>\n",
              "      <td>tf.Tensor(b'multiply(n0,n1)|subtract(n3,#0)|di...</td>\n",
              "      <td>tf.Tensor(b'a ) 6.5 , b ) 6.22 , c ) 6.29 , d ...</td>\n",
              "    </tr>\n",
              "  </tbody>\n",
              "</table>\n",
              "</div>\n",
              "    <div class=\"colab-df-buttons\">\n",
              "\n",
              "  <div class=\"colab-df-container\">\n",
              "    <button class=\"colab-df-convert\" onclick=\"convertToInteractive('df-f80c5ea7-ca85-4028-98e4-ace88badc138')\"\n",
              "            title=\"Convert this dataframe to an interactive table.\"\n",
              "            style=\"display:none;\">\n",
              "\n",
              "  <svg xmlns=\"http://www.w3.org/2000/svg\" height=\"24px\" viewBox=\"0 -960 960 960\">\n",
              "    <path d=\"M120-120v-720h720v720H120Zm60-500h600v-160H180v160Zm220 220h160v-160H400v160Zm0 220h160v-160H400v160ZM180-400h160v-160H180v160Zm440 0h160v-160H620v160ZM180-180h160v-160H180v160Zm440 0h160v-160H620v160Z\"/>\n",
              "  </svg>\n",
              "    </button>\n",
              "\n",
              "  <style>\n",
              "    .colab-df-container {\n",
              "      display:flex;\n",
              "      gap: 12px;\n",
              "    }\n",
              "\n",
              "    .colab-df-convert {\n",
              "      background-color: #E8F0FE;\n",
              "      border: none;\n",
              "      border-radius: 50%;\n",
              "      cursor: pointer;\n",
              "      display: none;\n",
              "      fill: #1967D2;\n",
              "      height: 32px;\n",
              "      padding: 0 0 0 0;\n",
              "      width: 32px;\n",
              "    }\n",
              "\n",
              "    .colab-df-convert:hover {\n",
              "      background-color: #E2EBFA;\n",
              "      box-shadow: 0px 1px 2px rgba(60, 64, 67, 0.3), 0px 1px 3px 1px rgba(60, 64, 67, 0.15);\n",
              "      fill: #174EA6;\n",
              "    }\n",
              "\n",
              "    .colab-df-buttons div {\n",
              "      margin-bottom: 4px;\n",
              "    }\n",
              "\n",
              "    [theme=dark] .colab-df-convert {\n",
              "      background-color: #3B4455;\n",
              "      fill: #D2E3FC;\n",
              "    }\n",
              "\n",
              "    [theme=dark] .colab-df-convert:hover {\n",
              "      background-color: #434B5C;\n",
              "      box-shadow: 0px 1px 3px 1px rgba(0, 0, 0, 0.15);\n",
              "      filter: drop-shadow(0px 1px 2px rgba(0, 0, 0, 0.3));\n",
              "      fill: #FFFFFF;\n",
              "    }\n",
              "  </style>\n",
              "\n",
              "    <script>\n",
              "      const buttonEl =\n",
              "        document.querySelector('#df-f80c5ea7-ca85-4028-98e4-ace88badc138 button.colab-df-convert');\n",
              "      buttonEl.style.display =\n",
              "        google.colab.kernel.accessAllowed ? 'block' : 'none';\n",
              "\n",
              "      async function convertToInteractive(key) {\n",
              "        const element = document.querySelector('#df-f80c5ea7-ca85-4028-98e4-ace88badc138');\n",
              "        const dataTable =\n",
              "          await google.colab.kernel.invokeFunction('convertToInteractive',\n",
              "                                                    [key], {});\n",
              "        if (!dataTable) return;\n",
              "\n",
              "        const docLinkHtml = 'Like what you see? Visit the ' +\n",
              "          '<a target=\"_blank\" href=https://colab.research.google.com/notebooks/data_table.ipynb>data table notebook</a>'\n",
              "          + ' to learn more about interactive tables.';\n",
              "        element.innerHTML = '';\n",
              "        dataTable['output_type'] = 'display_data';\n",
              "        await google.colab.output.renderOutput(dataTable, element);\n",
              "        const docLink = document.createElement('div');\n",
              "        docLink.innerHTML = docLinkHtml;\n",
              "        element.appendChild(docLink);\n",
              "      }\n",
              "    </script>\n",
              "  </div>\n",
              "\n",
              "\n",
              "<div id=\"df-b4eec0d5-e229-4183-a360-1159fd9f743f\">\n",
              "  <button class=\"colab-df-quickchart\" onclick=\"quickchart('df-b4eec0d5-e229-4183-a360-1159fd9f743f')\"\n",
              "            title=\"Suggest charts\"\n",
              "            style=\"display:none;\">\n",
              "\n",
              "<svg xmlns=\"http://www.w3.org/2000/svg\" height=\"24px\"viewBox=\"0 0 24 24\"\n",
              "     width=\"24px\">\n",
              "    <g>\n",
              "        <path d=\"M19 3H5c-1.1 0-2 .9-2 2v14c0 1.1.9 2 2 2h14c1.1 0 2-.9 2-2V5c0-1.1-.9-2-2-2zM9 17H7v-7h2v7zm4 0h-2V7h2v10zm4 0h-2v-4h2v4z\"/>\n",
              "    </g>\n",
              "</svg>\n",
              "  </button>\n",
              "\n",
              "<style>\n",
              "  .colab-df-quickchart {\n",
              "      --bg-color: #E8F0FE;\n",
              "      --fill-color: #1967D2;\n",
              "      --hover-bg-color: #E2EBFA;\n",
              "      --hover-fill-color: #174EA6;\n",
              "      --disabled-fill-color: #AAA;\n",
              "      --disabled-bg-color: #DDD;\n",
              "  }\n",
              "\n",
              "  [theme=dark] .colab-df-quickchart {\n",
              "      --bg-color: #3B4455;\n",
              "      --fill-color: #D2E3FC;\n",
              "      --hover-bg-color: #434B5C;\n",
              "      --hover-fill-color: #FFFFFF;\n",
              "      --disabled-bg-color: #3B4455;\n",
              "      --disabled-fill-color: #666;\n",
              "  }\n",
              "\n",
              "  .colab-df-quickchart {\n",
              "    background-color: var(--bg-color);\n",
              "    border: none;\n",
              "    border-radius: 50%;\n",
              "    cursor: pointer;\n",
              "    display: none;\n",
              "    fill: var(--fill-color);\n",
              "    height: 32px;\n",
              "    padding: 0;\n",
              "    width: 32px;\n",
              "  }\n",
              "\n",
              "  .colab-df-quickchart:hover {\n",
              "    background-color: var(--hover-bg-color);\n",
              "    box-shadow: 0 1px 2px rgba(60, 64, 67, 0.3), 0 1px 3px 1px rgba(60, 64, 67, 0.15);\n",
              "    fill: var(--button-hover-fill-color);\n",
              "  }\n",
              "\n",
              "  .colab-df-quickchart-complete:disabled,\n",
              "  .colab-df-quickchart-complete:disabled:hover {\n",
              "    background-color: var(--disabled-bg-color);\n",
              "    fill: var(--disabled-fill-color);\n",
              "    box-shadow: none;\n",
              "  }\n",
              "\n",
              "  .colab-df-spinner {\n",
              "    border: 2px solid var(--fill-color);\n",
              "    border-color: transparent;\n",
              "    border-bottom-color: var(--fill-color);\n",
              "    animation:\n",
              "      spin 1s steps(1) infinite;\n",
              "  }\n",
              "\n",
              "  @keyframes spin {\n",
              "    0% {\n",
              "      border-color: transparent;\n",
              "      border-bottom-color: var(--fill-color);\n",
              "      border-left-color: var(--fill-color);\n",
              "    }\n",
              "    20% {\n",
              "      border-color: transparent;\n",
              "      border-left-color: var(--fill-color);\n",
              "      border-top-color: var(--fill-color);\n",
              "    }\n",
              "    30% {\n",
              "      border-color: transparent;\n",
              "      border-left-color: var(--fill-color);\n",
              "      border-top-color: var(--fill-color);\n",
              "      border-right-color: var(--fill-color);\n",
              "    }\n",
              "    40% {\n",
              "      border-color: transparent;\n",
              "      border-right-color: var(--fill-color);\n",
              "      border-top-color: var(--fill-color);\n",
              "    }\n",
              "    60% {\n",
              "      border-color: transparent;\n",
              "      border-right-color: var(--fill-color);\n",
              "    }\n",
              "    80% {\n",
              "      border-color: transparent;\n",
              "      border-right-color: var(--fill-color);\n",
              "      border-bottom-color: var(--fill-color);\n",
              "    }\n",
              "    90% {\n",
              "      border-color: transparent;\n",
              "      border-bottom-color: var(--fill-color);\n",
              "    }\n",
              "  }\n",
              "</style>\n",
              "\n",
              "  <script>\n",
              "    async function quickchart(key) {\n",
              "      const quickchartButtonEl =\n",
              "        document.querySelector('#' + key + ' button');\n",
              "      quickchartButtonEl.disabled = true;  // To prevent multiple clicks.\n",
              "      quickchartButtonEl.classList.add('colab-df-spinner');\n",
              "      try {\n",
              "        const charts = await google.colab.kernel.invokeFunction(\n",
              "            'suggestCharts', [key], {});\n",
              "      } catch (error) {\n",
              "        console.error('Error during call to suggestCharts:', error);\n",
              "      }\n",
              "      quickchartButtonEl.classList.remove('colab-df-spinner');\n",
              "      quickchartButtonEl.classList.add('colab-df-quickchart-complete');\n",
              "    }\n",
              "    (() => {\n",
              "      let quickchartButtonEl =\n",
              "        document.querySelector('#df-b4eec0d5-e229-4183-a360-1159fd9f743f button');\n",
              "      quickchartButtonEl.style.display =\n",
              "        google.colab.kernel.accessAllowed ? 'block' : 'none';\n",
              "    })();\n",
              "  </script>\n",
              "</div>\n",
              "\n",
              "    </div>\n",
              "  </div>\n"
            ],
            "application/vnd.google.colaboratory.intrinsic+json": {
              "type": "dataframe",
              "variable_name": "train_df",
              "summary": "{\n  \"name\": \"train_df\",\n  \"rows\": 29837,\n  \"fields\": [\n    {\n      \"column\": \"Problem\",\n      \"properties\": {\n        \"dtype\": \"object\",\n        \"semantic_type\": \"\",\n        \"description\": \"\"\n      }\n    },\n    {\n      \"column\": \"Rationale\",\n      \"properties\": {\n        \"dtype\": \"object\",\n        \"semantic_type\": \"\",\n        \"description\": \"\"\n      }\n    },\n    {\n      \"column\": \"annotated_formula\",\n      \"properties\": {\n        \"dtype\": \"object\",\n        \"semantic_type\": \"\",\n        \"description\": \"\"\n      }\n    },\n    {\n      \"column\": \"category\",\n      \"properties\": {\n        \"dtype\": \"object\",\n        \"semantic_type\": \"\",\n        \"description\": \"\"\n      }\n    },\n    {\n      \"column\": \"correct\",\n      \"properties\": {\n        \"dtype\": \"object\",\n        \"semantic_type\": \"\",\n        \"description\": \"\"\n      }\n    },\n    {\n      \"column\": \"correct_option\",\n      \"properties\": {\n        \"dtype\": \"object\",\n        \"semantic_type\": \"\",\n        \"description\": \"\"\n      }\n    },\n    {\n      \"column\": \"linear_formula\",\n      \"properties\": {\n        \"dtype\": \"object\",\n        \"semantic_type\": \"\",\n        \"description\": \"\"\n      }\n    },\n    {\n      \"column\": \"options\",\n      \"properties\": {\n        \"dtype\": \"object\",\n        \"semantic_type\": \"\",\n        \"description\": \"\"\n      }\n    }\n  ]\n}"
            }
          },
          "metadata": {},
          "execution_count": 4
        }
      ]
    },
    {
      "cell_type": "code",
      "source": [
        "#Installing the packages for Gemini which is used in question generation\n",
        "!pip install -q -U google-generativeai"
      ],
      "metadata": {
        "colab": {
          "base_uri": "https://localhost:8080/"
        },
        "id": "WMX9zm1yqmfe",
        "outputId": "1c9216b4-e46a-46a7-a6ea-79d0abb72341"
      },
      "execution_count": null,
      "outputs": [
        {
          "output_type": "stream",
          "name": "stdout",
          "text": [
            "\u001b[?25l     \u001b[90m━━━━━━━━━━━━━━━━━━━━━━━━━━━━━━━━━━━━━━━━\u001b[0m \u001b[32m0.0/146.8 kB\u001b[0m \u001b[31m?\u001b[0m eta \u001b[36m-:--:--\u001b[0m\r\u001b[2K     \u001b[91m━━━━━━━━━━━━━━━━━━━━━━━━━━━━━━━━━━━━━━━\u001b[0m\u001b[90m╺\u001b[0m \u001b[32m143.4/146.8 kB\u001b[0m \u001b[31m4.1 MB/s\u001b[0m eta \u001b[36m0:00:01\u001b[0m\r\u001b[2K     \u001b[90m━━━━━━━━━━━━━━━━━━━━━━━━━━━━━━━━━━━━━━━━\u001b[0m \u001b[32m146.8/146.8 kB\u001b[0m \u001b[31m3.0 MB/s\u001b[0m eta \u001b[36m0:00:00\u001b[0m\n",
            "\u001b[?25h\u001b[?25l     \u001b[90m━━━━━━━━━━━━━━━━━━━━━━━━━━━━━━━━━━━━━━━━\u001b[0m \u001b[32m0.0/664.5 kB\u001b[0m \u001b[31m?\u001b[0m eta \u001b[36m-:--:--\u001b[0m\r\u001b[2K     \u001b[91m━━━━━━━━━━━━━━━━━━━━━━\u001b[0m\u001b[90m╺\u001b[0m\u001b[90m━━━━━━━━━━━━━━━━━\u001b[0m \u001b[32m368.6/664.5 kB\u001b[0m \u001b[31m10.8 MB/s\u001b[0m eta \u001b[36m0:00:01\u001b[0m\r\u001b[2K     \u001b[91m━━━━━━━━━━━━━━━━━━━━━━━━━━━━━━━━━━━━━━━\u001b[0m\u001b[90m╺\u001b[0m \u001b[32m655.4/664.5 kB\u001b[0m \u001b[31m11.3 MB/s\u001b[0m eta \u001b[36m0:00:01\u001b[0m\r\u001b[2K     \u001b[90m━━━━━━━━━━━━━━━━━━━━━━━━━━━━━━━━━━━━━━━━\u001b[0m \u001b[32m664.5/664.5 kB\u001b[0m \u001b[31m9.2 MB/s\u001b[0m eta \u001b[36m0:00:00\u001b[0m\n",
            "\u001b[?25h"
          ]
        }
      ]
    },
    {
      "cell_type": "code",
      "source": [
        "#Run the cells to work with Gemini API\n",
        "import pathlib\n",
        "import textwrap\n",
        "\n",
        "import google.generativeai as genai\n",
        "\n",
        "from IPython.display import display\n",
        "from IPython.display import Markdown\n",
        "\n",
        "\n",
        "def to_markdown(text):\n",
        "  text = text.replace('•', '  *')\n",
        "  return Markdown(textwrap.indent(text, '> ', predicate=lambda _: True))"
      ],
      "metadata": {
        "id": "HD3maFpdLFOg"
      },
      "execution_count": null,
      "outputs": []
    },
    {
      "cell_type": "code",
      "source": [
        "# Used to securely store your API key\n",
        "from google.colab import userdata"
      ],
      "metadata": {
        "id": "wTyAwAb0LSZd"
      },
      "execution_count": null,
      "outputs": []
    },
    {
      "cell_type": "code",
      "source": [
        "#import your API key else it won't run\n",
        "GOOGLE_API_KEY=userdata.get('GOOGLE_API_KEY')\n",
        "\n",
        "genai.configure(api_key=GOOGLE_API_KEY)"
      ],
      "metadata": {
        "id": "j5ffIXKuLWdW"
      },
      "execution_count": null,
      "outputs": []
    },
    {
      "cell_type": "code",
      "source": [
        "for m in genai.list_models():\n",
        "  if 'generateContent' in m.supported_generation_methods:\n",
        "    print(m.name)"
      ],
      "metadata": {
        "colab": {
          "base_uri": "https://localhost:8080/",
          "height": 139
        },
        "id": "LG9bOOsTM-BO",
        "outputId": "cd58b8ec-442e-4026-8ab7-9a07f2c417a6"
      },
      "execution_count": null,
      "outputs": [
        {
          "output_type": "stream",
          "name": "stdout",
          "text": [
            "models/gemini-1.0-pro\n",
            "models/gemini-1.0-pro-001\n",
            "models/gemini-1.0-pro-latest\n",
            "models/gemini-1.0-pro-vision-latest\n",
            "models/gemini-1.5-pro-latest\n",
            "models/gemini-pro\n",
            "models/gemini-pro-vision\n"
          ]
        }
      ]
    },
    {
      "cell_type": "code",
      "source": [
        "model = genai.GenerativeModel('gemini-pro')"
      ],
      "metadata": {
        "id": "ahurGJ7LNAiJ"
      },
      "execution_count": null,
      "outputs": []
    },
    {
      "cell_type": "code",
      "source": [
        "#prompt is given to interact with the model\n",
        "%%time\n",
        "category = \"geometry\"  # this category will be given by the model\n",
        "prompt=f\"Generate a hard level question from {category} which has a numerical or few words answer\"\n",
        "response = model.generate_content(prompt)"
      ],
      "metadata": {
        "colab": {
          "base_uri": "https://localhost:8080/",
          "height": 52
        },
        "id": "GrW-kvmENMIi",
        "outputId": "464be5c2-280d-4899-9ad2-4c17b9ee21cc"
      },
      "execution_count": null,
      "outputs": [
        {
          "output_type": "stream",
          "name": "stdout",
          "text": [
            "CPU times: user 64 ms, sys: 10.2 ms, total: 74.2 ms\n",
            "Wall time: 3.71 s\n"
          ]
        }
      ]
    },
    {
      "cell_type": "code",
      "source": [
        "#example question\n",
        "to_markdown(response.text)"
      ],
      "metadata": {
        "colab": {
          "base_uri": "https://localhost:8080/",
          "height": 62
        },
        "id": "zyEyky5NPwyo",
        "outputId": "32168154-cf96-4f46-b049-0eac39ffc078"
      },
      "execution_count": null,
      "outputs": [
        {
          "output_type": "execute_result",
          "data": {
            "text/plain": [
              "<IPython.core.display.Markdown object>"
            ],
            "text/markdown": "> In a right triangle with legs of length 3 and 4, what is the area of the circle inscribed in the triangle?"
          },
          "metadata": {},
          "execution_count": 28
        }
      ]
    },
    {
      "cell_type": "code",
      "source": [
        "import numpy as np\n",
        "\n",
        "# Convert TensorFlow tensors to NumPy arrays\n",
        "category_array = train_df['category'].apply(lambda x: x.numpy())\n",
        "\n",
        "# Get unique categories\n",
        "unique_categories = np.unique(category_array)\n",
        "print(unique_categories)\n",
        "\n"
      ],
      "metadata": {
        "colab": {
          "base_uri": "https://localhost:8080/"
        },
        "id": "x-6ZUwjPKL5r",
        "outputId": "ddab1090-9ab8-4e74-e050-35bb82e8800f"
      },
      "execution_count": null,
      "outputs": [
        {
          "output_type": "stream",
          "name": "stdout",
          "text": [
            "[b'gain' b'general' b'geometry' b'other' b'physics' b'probability']\n"
          ]
        }
      ]
    },
    {
      "cell_type": "code",
      "source": [
        "import numpy as np\n",
        "import pandas as pd\n",
        "\n",
        "# Define the list of categories\n",
        "categories = ['gain', 'general', 'geometry', 'other', 'physics', 'probability']\n",
        "\n",
        "# Define the user ID\n",
        "user_id = 1\n",
        "\n",
        "# Initialize empty lists for each category\n",
        "category_data = {category: {'total_correct': np.random.randint(0, 10),\n",
        "                            'num_questions': np.random.randint(0, 20),\n",
        "                            'last_time_asked': np.random.randint(0, 20)} for category in categories}\n",
        "\n",
        "# Create a DataFrame for each category\n",
        "category_dfs = []\n",
        "for category, data in category_data.items():\n",
        "    df = pd.DataFrame({'User_ID': [user_id], **data})\n",
        "    df['Category'] = category\n",
        "    category_dfs.append(df)\n",
        "\n",
        "# Concatenate DataFrames along the columns axis\n",
        "user_df = pd.concat(category_dfs, ignore_index=True)\n",
        "\n",
        "# Print the generated dataset\n",
        "print(user_df)\n"
      ],
      "metadata": {
        "colab": {
          "base_uri": "https://localhost:8080/"
        },
        "id": "fJHI0-2QPkIP",
        "outputId": "ffdda2b4-10b6-4924-dc49-83f8c9b03e9b"
      },
      "execution_count": null,
      "outputs": [
        {
          "output_type": "stream",
          "name": "stdout",
          "text": [
            "   User_ID  total_correct  num_questions  last_time_asked     Category\n",
            "0        1              6              3               16         gain\n",
            "1        1              1             10               18      general\n",
            "2        1              1              3                0     geometry\n",
            "3        1              5             13                2        other\n",
            "4        1              9             10                9      physics\n",
            "5        1              7             13               14  probability\n"
          ]
        }
      ]
    },
    {
      "cell_type": "code",
      "source": [
        "import numpy as np\n",
        "import pandas as pd\n",
        "\n",
        "def generate_user_data(user_id):\n",
        "    # Define the list of categories\n",
        "    categories = ['gain', 'general', 'geometry', 'other', 'physics', 'probability']\n",
        "\n",
        "    # Generate random values for total_correct, num_questions, and last_time_asked for each category\n",
        "    total_correct = np.random.randint(0, 10, size=len(categories))\n",
        "    num_questions = np.random.randint(0, 20, size=len(categories))\n",
        "    last_time_asked = np.random.randint(0, 100, size=len(categories))\n",
        "\n",
        "    # Create a list of dictionaries for each category\n",
        "    category_data = []\n",
        "    for i, category in enumerate(categories):\n",
        "        category_dict = {\n",
        "            'User_ID': user_id,\n",
        "            'Category': category,\n",
        "            'total_correct': total_correct[i],\n",
        "            'num_questions': num_questions[i],\n",
        "            'last_time_asked': last_time_asked[i]\n",
        "        }\n",
        "        category_data.append(category_dict)\n",
        "\n",
        "    # Create a DataFrame for the user data\n",
        "    user_df = pd.DataFrame(category_data)\n",
        "\n",
        "    return user_df\n",
        "\n",
        "# Example usage:\n",
        "user_id = 1\n",
        "user_data = generate_user_data(user_id)\n",
        "print(user_data)\n"
      ],
      "metadata": {
        "colab": {
          "base_uri": "https://localhost:8080/"
        },
        "id": "H3FFHSwQcRmD",
        "outputId": "476495a5-cdb3-45d1-aef3-8eb7ecec3cac"
      },
      "execution_count": 8,
      "outputs": [
        {
          "output_type": "stream",
          "name": "stdout",
          "text": [
            "   User_ID     Category  total_correct  num_questions  last_time_asked\n",
            "0        1         gain              7              5               43\n",
            "1        1      general              1             17               98\n",
            "2        1     geometry              7             18               19\n",
            "3        1        other              8             16               75\n",
            "4        1      physics              6             11               75\n",
            "5        1  probability              8             17               12\n"
          ]
        }
      ]
    },
    {
      "cell_type": "code",
      "source": [
        "!python -m pip install pyqlearning"
      ],
      "metadata": {
        "colab": {
          "base_uri": "https://localhost:8080/"
        },
        "id": "jXlVMCPYHdas",
        "outputId": "996b32ed-49fe-41da-c025-bd96f80a8d30"
      },
      "execution_count": null,
      "outputs": [
        {
          "output_type": "stream",
          "name": "stdout",
          "text": [
            "Collecting pyqlearning\n",
            "  Downloading pyqlearning-1.2.7.tar.gz (59 kB)\n",
            "\u001b[2K     \u001b[90m━━━━━━━━━━━━━━━━━━━━━━━━━━━━━━━━━━━━━━━━\u001b[0m \u001b[32m59.1/59.1 kB\u001b[0m \u001b[31m1.2 MB/s\u001b[0m eta \u001b[36m0:00:00\u001b[0m\n",
            "\u001b[?25h  Preparing metadata (setup.py) ... \u001b[?25l\u001b[?25hdone\n",
            "Requirement already satisfied: numpy in /usr/local/lib/python3.10/dist-packages (from pyqlearning) (1.25.2)\n",
            "Requirement already satisfied: pandas in /usr/local/lib/python3.10/dist-packages (from pyqlearning) (2.0.3)\n",
            "Requirement already satisfied: python-dateutil>=2.8.2 in /usr/local/lib/python3.10/dist-packages (from pandas->pyqlearning) (2.8.2)\n",
            "Requirement already satisfied: pytz>=2020.1 in /usr/local/lib/python3.10/dist-packages (from pandas->pyqlearning) (2023.4)\n",
            "Requirement already satisfied: tzdata>=2022.1 in /usr/local/lib/python3.10/dist-packages (from pandas->pyqlearning) (2024.1)\n",
            "Requirement already satisfied: six>=1.5 in /usr/local/lib/python3.10/dist-packages (from python-dateutil>=2.8.2->pandas->pyqlearning) (1.16.0)\n",
            "Building wheels for collected packages: pyqlearning\n",
            "  Building wheel for pyqlearning (setup.py) ... \u001b[?25l\u001b[?25hdone\n",
            "  Created wheel for pyqlearning: filename=pyqlearning-1.2.7-py3-none-any.whl size=54949 sha256=2f511668d248a9508aadfea3091adfe08b16cd505aab0e030676513d94c1025a\n",
            "  Stored in directory: /root/.cache/pip/wheels/ac/74/f6/ce67a3cdedf4b3d14351f1449a8edd8dafa0b8c98aac9a6eec\n",
            "Successfully built pyqlearning\n",
            "Installing collected packages: pyqlearning\n",
            "Successfully installed pyqlearning-1.2.7\n"
          ]
        }
      ]
    },
    {
      "cell_type": "code",
      "source": [
        "#reinforcement learning model to maximise the score\n",
        "import numpy as np\n",
        "\n",
        "class QLearningTopicSelector:\n",
        "    def __init__(self, n_topics, learning_rate=0.1, discount_factor=0.9, epsilon=0.1):\n",
        "        self.n_topics = n_topics\n",
        "        self.learning_rate = learning_rate\n",
        "        self.discount_factor = discount_factor\n",
        "        self.epsilon = epsilon\n",
        "\n",
        "        self.q_table = np.zeros((n_topics,))\n",
        "        self.state = np.zeros((n_topics, 3))  # total correct, total questions, last question asked\n",
        "\n",
        "    def choose_topic(self):\n",
        "        if np.random.uniform(0, 1) < self.epsilon:\n",
        "            return np.random.choice(self.n_topics)\n",
        "        else:\n",
        "            return np.argmax(self.q_table)\n",
        "\n",
        "    def predict(self):\n",
        "        return np.argmax(self.q_table)\n",
        "\n",
        "    def update_q_table(self, topic, reward):\n",
        "        current_q = self.q_table[topic]\n",
        "        new_q = current_q + self.learning_rate * (reward - current_q)\n",
        "        self.q_table[topic] = new_q\n",
        "\n",
        "    def get_q_table(self):\n",
        "        return self.q_table\n",
        "\n",
        "    def get_state(self):\n",
        "        return self.state\n",
        "\n",
        "    def set_state(self, state):\n",
        "        self.state = state\n",
        "\n",
        "def run_episodes(topic_selector, num_episodes=1000):\n",
        "    for episode in range(num_episodes):\n",
        "        topic = topic_selector.choose_topic()\n",
        "        reward = calculate_reward(topic_selector.get_state(), topic)\n",
        "        topic_selector.update_q_table(topic, reward)\n",
        "\n",
        "def calculate_reward(state, topic):\n",
        "    # Calculate reward based on the performance of all topics\n",
        "    correct_percentages = []\n",
        "    incorrect_percentages = []\n",
        "    for i in range(len(state)):\n",
        "        if topic == i:\n",
        "            if state[i][1] > 0:\n",
        "                correct_percentages.append((state[i][0] + 1) / (state[i][1] + 1))\n",
        "                incorrect_percentages.append((state[i][0] - 1) / (state[i][1] + 1))\n",
        "            else:\n",
        "                correct_percentages.append(1)\n",
        "                incorrect_percentages.append(0)\n",
        "        else:\n",
        "            if state[i][1] > 0:\n",
        "                correct_percentages.append(state[i][0] / state[i][1])\n",
        "                incorrect_percentages.append(state[i][0] / state[i][1])\n",
        "            else:\n",
        "                correct_percentages.append(0)\n",
        "                incorrect_percentages.append(0)\n",
        "    s = 0\n",
        "    ratio = 0.8  # this is the assumed ratio of the correctness and it should be on the model to learn\n",
        "    weight = 0.02\n",
        "    for i in range(len(state)):\n",
        "        s += correct_percentages[i] * ratio + incorrect_percentages[i] * (1 - ratio)  # assuming 80-20 ratio\n",
        "    return s / len(state) + weight * state[topic][2]\n",
        "\n",
        "def calculate_last_time_asked(num_questions, last_time_asked):\n",
        "    # Assuming a linear increase in last_time_asked based on the number of questions asked\n",
        "    return last_time_asked + num_questions\n",
        "\n",
        "def calculate_next_time_to_ask(last_time_asked, interval):\n",
        "    return last_time_asked + interval\n",
        "\n",
        "# Example usage:\n",
        "\n",
        "a = np.array([\n",
        "    [3, 6, 4], #gain\n",
        "    [1, 4, 8], #general\n",
        "    [5, 5, 10], #geometry\n",
        "    [1, 1, 12], #other\n",
        "    [2,10,8],   #physics\n",
        "    [9,10,10]  #probability\n",
        "])\n",
        "\n",
        "n_topics = len(a)  # Assuming you have 6 topics\n",
        "last_time_asked = np.max(a[:, 2])  # Get the last time the same question was asked\n",
        "interval = 18  # Assuming the interval after which the same question is asked again\n",
        "next_time_to_ask = calculate_next_time_to_ask(last_time_asked, interval)\n",
        "\n",
        "topic_selector = QLearningTopicSelector(n_topics)\n",
        "topic_selector.set_state(a)\n",
        "\n",
        "# Run episodes to train the topic selector\n",
        "run_episodes(topic_selector)\n",
        "predicted_topic = topic_selector.predict()\n",
        "if predicted_topic==1:{\n",
        "    print(\"gain\")\n",
        "}\n",
        "if predicted_topic==2:{\n",
        "    print(\"general\")\n",
        "}\n",
        "if predicted_topic==3:{\n",
        "    print(\"geometry\")\n",
        "}\n",
        "if predicted_topic==4:{\n",
        "    print(\"other\")\n",
        "}\n",
        "if predicted_topic==5:{\n",
        "    print(\"physics\")\n",
        "}\n",
        "if predicted_topic==6:{\n",
        "    print(\"probability\")\n",
        "}\n",
        "#note:the categories question are updating every time you run this cell , hence you see different outputs\n",
        "#Output:physics - this shows that the user i performing poorly in physics category and the question should be asked from it\n",
        "#in future more parameters like speed can also be added in the numpy array as the fourth parameter"
      ],
      "metadata": {
        "colab": {
          "base_uri": "https://localhost:8080/"
        },
        "id": "kclVMe0INCsq",
        "outputId": "4fc19d4e-261f-4734-e84e-383e906d5eb9"
      },
      "execution_count": 12,
      "outputs": [
        {
          "output_type": "stream",
          "name": "stdout",
          "text": [
            "physics\n"
          ]
        }
      ]
    },
    {
      "cell_type": "code",
      "source": [
        "def user_analytics(user_df):\n",
        "  total_correct =0\n",
        "  num_questions = 0\n",
        "  for i in range(6):\n",
        "    total_correct+=user_df.iloc[i,:]['total_correct']\n",
        "    num_questions+=user_df.iloc[i,:]['num_questions']\n",
        "  return (total_correct,num_questions)"
      ],
      "metadata": {
        "id": "k2iEYb8OBZy-"
      },
      "execution_count": 1,
      "outputs": []
    },
    {
      "cell_type": "code",
      "source": [
        "def user_extract(user_df):\n",
        "  data=[]\n",
        "  for i in range(6):\n",
        "    category=[user_df.iloc[i,:]['total_correct'],user_df.iloc[i,:]['num_questions'],user_df.iloc[i,:]['last_time_asked']]\n",
        "    data.append(category)\n",
        "  return np.array(data)\n"
      ],
      "metadata": {
        "id": "rgrLsD3WBbz6"
      },
      "execution_count": 2,
      "outputs": []
    },
    {
      "cell_type": "code",
      "source": [
        "def user_performance(user_df):\n",
        "  total_correct,num_questions = user_analytics(user_df)\n",
        "  return 100*total_correct/num_questions"
      ],
      "metadata": {
        "id": "SCCx8yUUBd36"
      },
      "execution_count": 3,
      "outputs": []
    },
    {
      "cell_type": "code",
      "source": [
        "def max_performance(user_df,questions):\n",
        "  total_correct,num_questions=user_analytics(user_df)\n",
        "  return 100*(total_correct+questions)/(num_questions+questions)"
      ],
      "metadata": {
        "id": "MWW6jiu9BhLH"
      },
      "execution_count": 4,
      "outputs": []
    },
    {
      "cell_type": "code",
      "source": [
        "def updating_user(user_df,index,correct):\n",
        "  if(correct):\n",
        "    user_df.loc[index,'total_correct']+=1\n",
        "  for i in range(6):\n",
        "    user_df.loc[i,'last_time_asked']+=1\n",
        "\n",
        "  user_df.loc[index,'last_time_asked']=0\n",
        "  user_df.loc[index,'num_questions']+=1"
      ],
      "metadata": {
        "id": "6nvpq7jUBmJF"
      },
      "execution_count": 5,
      "outputs": []
    },
    {
      "cell_type": "code",
      "source": [
        "def exam_simulation(users,questions,ratio=0.8):\n",
        "  s=0\n",
        "  for user in users:\n",
        "    initial=user_performance(user)\n",
        "    limit=max_performance(user,questions)\n",
        "    for q in range(questions):\n",
        "      topic_selector.set_state(user_extract(user))\n",
        "      chosen=topic_selector.predict()\n",
        "\n",
        "      if random.random() < ratio: #80% times user answers correctly\n",
        "        updating_user(user,chosen,True)\n",
        "      else:\n",
        "        updating_user(user,chosen,False)\n",
        "    final=user_performance(user)\n",
        "\n",
        "\n",
        "    s+=100*(final-initial)/(limit-initial)\n",
        "  return s/len(users);"
      ],
      "metadata": {
        "id": "tBBx0nFFBmyi"
      },
      "execution_count": 6,
      "outputs": []
    },
    {
      "cell_type": "code",
      "source": [
        "users_list_1=[]\n",
        "for i in range(100):\n",
        "  a_user_data=generate_user_data(i)\n",
        "  users_list_1.append(a_user_data)\n",
        "users_list_2=[]\n",
        "for i in range(100):\n",
        "  a_user_data=generate_user_data(i)\n",
        "  users_list_2.append(a_user_data)\n",
        "users_list_3=[]\n",
        "for i in range(100):\n",
        "  a_user_data=generate_user_data(i)\n",
        "  users_list_3.append(a_user_data)"
      ],
      "metadata": {
        "id": "ActvVu7wBosJ"
      },
      "execution_count": 9,
      "outputs": []
    },
    {
      "cell_type": "code",
      "source": [
        "import random\n",
        "print(\"Percentage improvement for 100 users over a 5 question exam :\",exam_simulation(users_list_1,5))\n",
        "print(\"Percentage improvement for 100 users over a 10 question exam :\",exam_simulation(users_list_2,10))\n",
        "print(\"Percentage improvement for 100 users over a 20 question exam :\",exam_simulation(users_list_2,20))"
      ],
      "metadata": {
        "colab": {
          "base_uri": "https://localhost:8080/"
        },
        "id": "oTyPmNqYBqqL",
        "outputId": "e1ed532c-3bdc-4d8a-f1e2-52b829642db8"
      },
      "execution_count": 16,
      "outputs": [
        {
          "output_type": "stream",
          "name": "stdout",
          "text": [
            "Percentage improvement for 100 users over a 5 question exam : 69.15186729610794\n",
            "Percentage improvement for 100 users over a 10 question exam : 74.14380002080816\n",
            "Percentage improvement for 100 users over a 20 question exam : 81.98053339395996\n"
          ]
        }
      ]
    },
    {
      "cell_type": "code",
      "source": [
        "a = np.array([\n",
        "    [3, 6, 4], #gain\n",
        "    [1, 4, 8], #general\n",
        "    [51, 5, 10], #geometry\n",
        "    [1, 1, 12], #other\n",
        "    [9,10,8],   #physics\n",
        "    [9,10,10]  #probability\n",
        "])\n",
        "topic_selector.set_state(a)\n",
        "topic_selector.predict()\n",
        "#accuracy"
      ],
      "metadata": {
        "colab": {
          "base_uri": "https://localhost:8080/"
        },
        "id": "f2tBoX24Bs4D",
        "outputId": "3c7c39fe-8527-4c75-a71e-c43edb6a0aff"
      },
      "execution_count": 17,
      "outputs": [
        {
          "output_type": "execute_result",
          "data": {
            "text/plain": [
              "5"
            ]
          },
          "metadata": {},
          "execution_count": 17
        }
      ]
    }
  ]
}